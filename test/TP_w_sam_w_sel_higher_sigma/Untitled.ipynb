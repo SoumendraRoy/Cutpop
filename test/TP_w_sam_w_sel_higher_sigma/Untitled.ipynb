{
 "cells": [
  {
   "cell_type": "code",
   "execution_count": 1,
   "id": "83be45e8-7aa7-4ae3-a9a1-c1a8e276b2a3",
   "metadata": {},
   "outputs": [],
   "source": [
    "import numpy as np\n",
    "import h5py"
   ]
  },
  {
   "cell_type": "code",
   "execution_count": 2,
   "id": "6d8f4056-772e-4a81-8f56-4c2d4dc3d0af",
   "metadata": {},
   "outputs": [],
   "source": [
    "with h5py.File('pe_samples_w_selection.h5', 'r') as inp:\n",
    "    ms_det = np.array(inp['ms_det'])\n",
    "    zs_det = np.array(inp['zs_det'])\n",
    "inp.close()"
   ]
  },
  {
   "cell_type": "code",
   "execution_count": 5,
   "id": "72f21020-36bd-48a9-b77e-aa1ad4e443a9",
   "metadata": {},
   "outputs": [
    {
     "data": {
      "text/plain": [
       "array([[53.21994742, 54.48899851, 53.01545923, ..., 52.66463264,\n",
       "        52.54455823, 53.00831493],\n",
       "       [54.56043157, 53.79942451, 53.54430942, ..., 53.44685836,\n",
       "        53.15181028, 54.13661204],\n",
       "       [56.02588284, 55.6633993 , 56.45966466, ..., 55.55535551,\n",
       "        55.05873013, 54.86455264],\n",
       "       ...,\n",
       "       [57.7738991 , 60.07998904, 55.35672085, ..., 57.12407227,\n",
       "        57.81812193, 58.48905808],\n",
       "       [54.78700174, 54.2985453 , 54.70685015, ..., 55.61975974,\n",
       "        53.73978475, 56.6354426 ],\n",
       "       [54.11139063, 52.90916662, 55.71903518, ..., 54.45137267,\n",
       "        55.34149928, 54.55260422]])"
      ]
     },
     "execution_count": 5,
     "metadata": {},
     "output_type": "execute_result"
    }
   ],
   "source": [
    "ms_det[np.median(ms_det, axis=1)>50.0, :]"
   ]
  },
  {
   "cell_type": "code",
   "execution_count": null,
   "id": "43143c7e-3d7e-4b3e-b798-0091516aef97",
   "metadata": {},
   "outputs": [],
   "source": []
  }
 ],
 "metadata": {
  "kernelspec": {
   "display_name": "popcosmo",
   "language": "python",
   "name": "popcosmo"
  },
  "language_info": {
   "codemirror_mode": {
    "name": "ipython",
    "version": 3
   },
   "file_extension": ".py",
   "mimetype": "text/x-python",
   "name": "python",
   "nbconvert_exporter": "python",
   "pygments_lexer": "ipython3",
   "version": "3.11.7"
  }
 },
 "nbformat": 4,
 "nbformat_minor": 5
}
