{
 "cells": [
  {
   "cell_type": "code",
   "execution_count": 1,
   "id": "ca2b0774-202c-4b28-9e94-d1e4314d62a5",
   "metadata": {},
   "outputs": [],
   "source": [
    "import h5py\n",
    "import numpy as np\n",
    "import matplotlib.pyplot as plt\n",
    "import corner\n",
    "import astropy.cosmology as cosmo\n",
    "from astropy.cosmology import Planck18\n",
    "import astropy.units as unit\n",
    "\n",
    "seed = 1023123283"
   ]
  },
  {
   "cell_type": "markdown",
   "id": "6f53e4ed-641a-4b82-8e3d-76d725df9de1",
   "metadata": {},
   "source": [
    "$$\n",
    "P(\\vec{\\lambda}|m_{obs},z_{obs}) \\propto \\frac{\\pi(\\vec{\\lambda})\\prod\\limits_{i}\\int dmdz P(m_{obs},z_{obs}|m,z) P(m,z|\\vec{\\lambda})}{\\beta(\\vec{\\lambda})^{N_{obs}}}\n",
    "$$\n",
    "\n",
    "$$\n",
    "\\propto \\frac{\\pi(\\vec{\\lambda})\\prod\\limits_{i}\\int dmdz \\frac{P(m,z|m_{obs},z_{obs})}{\\pi(m,z)} P(m,z|\\vec{\\lambda})}{\\beta(\\vec{\\lambda})^{N_{obs}}}\n",
    "$$\n",
    "\n",
    "$$\n",
    "\\approx \\frac{\\pi(\\vec{\\lambda})\\prod\\limits_{i}\\sum\\limits_{m,z \\sim P(m,z|m_{obs},z_{obs})} \\frac{P(m,z|\\vec{\\lambda})}{\\pi(m,z)}}{\\beta(\\vec{\\lambda})^{N_{obs}}}\n",
    "$$\n",
    "\n",
    "In our case $\\pi(m,z)=U(m,z)$. So the hyperposterior is:\n",
    "$$\n",
    "P(\\vec{\\lambda}|m_{obs},z_{obs}) \\propto \\frac{\\pi(\\vec{\\lambda})\\prod\\limits_{i}\\sum\\limits_{m,z \\sim P(m,z|m_{obs},z_{obs})} P(m,z|\\vec{\\lambda})}{\\beta(\\vec{\\lambda})^{N_{obs}}}\n",
    "$$\n",
    "\n",
    "Selection function $\\beta (\\vec{\\lambda})$ is:\n",
    "\n",
    "$$\n",
    "\\beta (\\vec{\\lambda}) = \\int_{m,z}dmdz P(det|m,z)P(m,z|\\vec{\\lambda})\n",
    "$$\n",
    "\n",
    "$$\n",
    "= \\int_{m,z}dmdz \\frac{P(m,z|det,draw)P(det|draw)}{P(m,z|draw)}P(m,z|\\vec{\\lambda})\n",
    "$$\n",
    "\n",
    "$$\n",
    "\\approx \\sum\\limits_{m,z \\sim P(m,z|det,draw)} \\frac{P(m,z|\\vec{\\lambda})}{{P(m,z|draw)}}\n",
    "$$"
   ]
  },
  {
   "cell_type": "markdown",
   "id": "c83c4baf-bffe-49bc-a32b-bea713ae4a38",
   "metadata": {},
   "source": [
    "# $m,z \\sim P(m,z|det,draw)$"
   ]
  },
  {
   "cell_type": "code",
   "execution_count": 2,
   "id": "02c2a297-fce2-404a-9043-edb99a57c3c6",
   "metadata": {},
   "outputs": [],
   "source": [
    "Ninj = 10000000"
   ]
  },
  {
   "cell_type": "code",
   "execution_count": 3,
   "id": "9b151b40-4deb-40dc-af3a-c0784ba33d1d",
   "metadata": {},
   "outputs": [],
   "source": [
    "# mass\n",
    "m = np.random.uniform(20.0,65.0,Ninj)\n",
    "\n",
    "# redshift\n",
    "z = np.random.uniform(0.001,2.0,Ninj)"
   ]
  },
  {
   "cell_type": "code",
   "execution_count": 4,
   "id": "8d1c0652-9dc0-4179-a861-86303a3f40f8",
   "metadata": {},
   "outputs": [],
   "source": [
    "from scipy.interpolate import RectBivariateSpline, interp1d"
   ]
  },
  {
   "cell_type": "code",
   "execution_count": 5,
   "id": "f84023c2-e33e-4ccb-ab27-5bdedd05736e",
   "metadata": {},
   "outputs": [],
   "source": [
    "with h5py.File('optimal_snr.h5', 'r') as inp:\n",
    "    mass = np.array(inp['ms'])\n",
    "    osnrs = np.array(inp['SNR'])\n",
    "inp.close()\n",
    "\n",
    "osnr_interp = RectBivariateSpline(mass, mass, osnrs)\n",
    "\n",
    "def optimal_snr(m, z):\n",
    "    m1z = m*(1.0+z)\n",
    "    m2z = m*(1.0+z)\n",
    "    dl = Planck18.luminosity_distance(z).to(unit.Gpc).value\n",
    "    return osnr_interp.ev(m1z, m2z)/dl\n",
    "\n",
    "def rho(optimal_snr, Theta):\n",
    "    return optimal_snr*Theta"
   ]
  },
  {
   "cell_type": "code",
   "execution_count": 6,
   "id": "5bc7cabd-2407-4edb-9cdf-40190ad3dae0",
   "metadata": {},
   "outputs": [],
   "source": [
    "Theta = np.random.beta(2.0, 4.0, Ninj)"
   ]
  },
  {
   "cell_type": "code",
   "execution_count": 7,
   "id": "0d9dd8d8-f96a-45ee-9514-1b03281f0f35",
   "metadata": {},
   "outputs": [],
   "source": [
    "rhoo = rho(optimal_snr(m, z), Theta) + np.random.randn(Ninj)"
   ]
  },
  {
   "cell_type": "code",
   "execution_count": 8,
   "id": "91daf696-2d21-48a9-9455-a2345d30cf26",
   "metadata": {},
   "outputs": [
    {
     "name": "stdout",
     "output_type": "stream",
     "text": [
      "2459341\n"
     ]
    }
   ],
   "source": [
    "mask = rhoo>8.0\n",
    "rhoo_det = rhoo[mask]\n",
    "Ndet = len(rhoo_det)\n",
    "print(Ndet)"
   ]
  },
  {
   "cell_type": "code",
   "execution_count": 9,
   "id": "16a41561-2637-4392-a060-a0109eeb8e07",
   "metadata": {},
   "outputs": [],
   "source": [
    "mdet = m[mask]\n",
    "zdet = z[mask]"
   ]
  },
  {
   "cell_type": "code",
   "execution_count": 10,
   "id": "a7ffd6d4-b6b9-41e3-bb6d-bb17a6549efb",
   "metadata": {},
   "outputs": [
    {
     "data": {
      "text/plain": [
       "((2459341,), (2459341,))"
      ]
     },
     "execution_count": 10,
     "metadata": {},
     "output_type": "execute_result"
    }
   ],
   "source": [
    "mdet.shape, zdet.shape"
   ]
  },
  {
   "cell_type": "code",
   "execution_count": 11,
   "id": "5e6930db-7e4b-4227-8a37-648c8217d0c0",
   "metadata": {},
   "outputs": [],
   "source": [
    "with h5py.File('Selection_samples.h5', 'w') as inp:\n",
    "    inp.create_dataset('mdet', data=mdet)\n",
    "    inp.create_dataset('zdet', data=zdet)\n",
    "inp.close()"
   ]
  },
  {
   "cell_type": "markdown",
   "id": "196451c3-5ba7-474a-a15f-b996706634b6",
   "metadata": {},
   "source": [
    "$$\n",
    "P(m,z|draw) = 1\n",
    "$$"
   ]
  },
  {
   "cell_type": "code",
   "execution_count": null,
   "id": "a1a5a825-83dc-426a-93fc-2634e8c978a3",
   "metadata": {},
   "outputs": [],
   "source": []
  }
 ],
 "metadata": {
  "kernelspec": {
   "display_name": "popcosmo",
   "language": "python",
   "name": "popcosmo"
  },
  "language_info": {
   "codemirror_mode": {
    "name": "ipython",
    "version": 3
   },
   "file_extension": ".py",
   "mimetype": "text/x-python",
   "name": "python",
   "nbconvert_exporter": "python",
   "pygments_lexer": "ipython3",
   "version": "3.11.7"
  }
 },
 "nbformat": 4,
 "nbformat_minor": 5
}
