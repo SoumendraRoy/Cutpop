{
 "cells": [
  {
   "cell_type": "code",
   "execution_count": 1,
   "id": "e279a061-9bde-4ca5-b19f-a2afff7fa435",
   "metadata": {},
   "outputs": [],
   "source": [
    "import h5py\n",
    "import numpy as np\n",
    "import matplotlib.pyplot as plt\n",
    "import corner\n",
    "import astropy.cosmology as cosmo\n",
    "from astropy.cosmology import Planck18\n",
    "import astropy.units as unit\n",
    "\n",
    "seed = 1023123283"
   ]
  },
  {
   "cell_type": "markdown",
   "id": "4cf231cd-88a6-4071-9fa6-f160c873d938",
   "metadata": {},
   "source": [
    "# Data Generation"
   ]
  },
  {
   "cell_type": "code",
   "execution_count": 2,
   "id": "1662b8f8-c29d-461b-a7f2-14e379f8a6b2",
   "metadata": {},
   "outputs": [],
   "source": [
    "with h5py.File(\"truth.h5\",'r') as hf:\n",
    "    m = np.array(hf['mtrue'])\n",
    "    z = np.array(hf['ztrue'])\n",
    "hf.close()"
   ]
  },
  {
   "cell_type": "markdown",
   "id": "ee81d2ad-1e8b-4caf-add2-255d539e5c3d",
   "metadata": {},
   "source": [
    "$$\n",
    "m_{obs} \\sim \\mathcal{N}(m_{obs}|m,\\sigma_m)\n",
    "$$"
   ]
  },
  {
   "cell_type": "code",
   "execution_count": 3,
   "id": "4d42bfed-6a2f-4fb4-9710-4ece5a226a4c",
   "metadata": {},
   "outputs": [],
   "source": [
    "Nobs = m.shape[0]\n",
    "Nsamp = 4000"
   ]
  },
  {
   "cell_type": "code",
   "execution_count": 5,
   "id": "b82a4e3b-c707-46d5-8ced-bdb7506dd441",
   "metadata": {},
   "outputs": [],
   "source": [
    "sigma_m = 1.0\n",
    "mo = np.random.normal(m, sigma_m)\n",
    "ms = np.random.normal(mo[:,None], sigma_m, size=(Nobs,Nsamp))"
   ]
  },
  {
   "cell_type": "markdown",
   "id": "c52f269d-5e4c-4111-a733-356327eba056",
   "metadata": {},
   "source": [
    "$$\n",
    "z_{obs} \\sim \\mathcal{N}(z_{obs}|z, \\sigma_z)\n",
    "$$"
   ]
  },
  {
   "cell_type": "code",
   "execution_count": 7,
   "id": "88edee30-7903-4a99-b715-ff6412a2b72a",
   "metadata": {},
   "outputs": [],
   "source": [
    "sigma_z = 0.004\n",
    "zo = np.random.normal(z, sigma_z)\n",
    "zs = np.random.normal(zo[:,None], sigma_z, size=(Nobs,Nsamp))"
   ]
  },
  {
   "cell_type": "code",
   "execution_count": 8,
   "id": "bbb8d6f1-af3b-43a5-8275-9ad739911385",
   "metadata": {},
   "outputs": [
    {
     "name": "stdout",
     "output_type": "stream",
     "text": [
      "(10000, 4000) (10000, 4000)\n"
     ]
    }
   ],
   "source": [
    "print(ms.shape, zs.shape)"
   ]
  },
  {
   "cell_type": "code",
   "execution_count": 9,
   "id": "9d6d6d71-319f-4e7b-a7a3-77e147ba1d15",
   "metadata": {},
   "outputs": [
    {
     "data": {
      "text/plain": [
       "((array([], dtype=int64), array([], dtype=int64)),\n",
       " (array([], dtype=int64), array([], dtype=int64)))"
      ]
     },
     "execution_count": 9,
     "metadata": {},
     "output_type": "execute_result"
    }
   ],
   "source": [
    "np.where(ms<0), np.where(zs<0)"
   ]
  },
  {
   "cell_type": "code",
   "execution_count": 10,
   "id": "33392d50-dfe3-433e-9fe3-59b49a388e5b",
   "metadata": {},
   "outputs": [],
   "source": [
    "with h5py.File(\"pe_samples.h5\", \"w\") as file:    \n",
    "    file.create_dataset('ms', data=ms)\n",
    "    file.create_dataset('zs', data=zs)\n",
    "file.close()"
   ]
  },
  {
   "cell_type": "markdown",
   "id": "8ff1316f-c04b-4e39-8e36-a549fcc22396",
   "metadata": {},
   "source": [
    "# With Selection"
   ]
  },
  {
   "cell_type": "code",
   "execution_count": 11,
   "id": "b9f20ca4-50ce-48f7-8152-33be4cf82c64",
   "metadata": {},
   "outputs": [],
   "source": [
    "from scipy.interpolate import RectBivariateSpline, interp1d"
   ]
  },
  {
   "cell_type": "code",
   "execution_count": 12,
   "id": "cf39ada9-dd4b-4253-9fbe-966363518c71",
   "metadata": {},
   "outputs": [],
   "source": [
    "with h5py.File('optimal_snr.h5', 'r') as inp:\n",
    "    mass = np.array(inp['ms'])\n",
    "    osnrs = np.array(inp['SNR'])\n",
    "inp.close()\n",
    "\n",
    "osnr_interp = RectBivariateSpline(mass, mass, osnrs)\n",
    "\n",
    "def optimal_snr(m, z):\n",
    "    m1z = m*(1.0+z)\n",
    "    m2z = m*(1.0+z)\n",
    "    dl = Planck18.luminosity_distance(z).to(unit.Gpc).value\n",
    "    return osnr_interp.ev(m1z, m2z)/dl\n",
    "\n",
    "def rho(optimal_snr, Theta):\n",
    "    return optimal_snr*Theta"
   ]
  },
  {
   "cell_type": "code",
   "execution_count": 13,
   "id": "b927505f-070a-4d71-99d5-25e9e5f2a37e",
   "metadata": {},
   "outputs": [],
   "source": [
    "Theta = np.random.beta(2.0, 4.0, m.shape[0])"
   ]
  },
  {
   "cell_type": "code",
   "execution_count": 14,
   "id": "257a85b4-4253-42a4-9e5b-6b1c268e4fe2",
   "metadata": {},
   "outputs": [],
   "source": [
    "rhoo = rho(optimal_snr(m, z), Theta) + np.random.randn(m.shape[0])"
   ]
  },
  {
   "cell_type": "code",
   "execution_count": 15,
   "id": "deba8fda-e2f5-4db5-8780-955b6aa2582b",
   "metadata": {},
   "outputs": [
    {
     "name": "stdout",
     "output_type": "stream",
     "text": [
      "245\n"
     ]
    }
   ],
   "source": [
    "mask = rhoo>8.0\n",
    "rhoo_det = rhoo[mask]\n",
    "Ndet = len(rhoo_det)\n",
    "print(Ndet)"
   ]
  },
  {
   "cell_type": "code",
   "execution_count": 16,
   "id": "d7424044-f1a7-4340-b624-a4c3178c036e",
   "metadata": {},
   "outputs": [],
   "source": [
    "ms_det = ms[mask,:]\n",
    "zs_det = zs[mask,:]"
   ]
  },
  {
   "cell_type": "code",
   "execution_count": 17,
   "id": "be6cbc46-63a8-4611-9d00-1116562a12c0",
   "metadata": {},
   "outputs": [
    {
     "data": {
      "text/plain": [
       "((245, 4000), (245, 4000))"
      ]
     },
     "execution_count": 17,
     "metadata": {},
     "output_type": "execute_result"
    }
   ],
   "source": [
    "ms_det.shape, zs_det.shape"
   ]
  },
  {
   "cell_type": "code",
   "execution_count": 18,
   "id": "0e993a1e-189e-420a-bce7-0356eb16eb7e",
   "metadata": {},
   "outputs": [],
   "source": [
    "with h5py.File(\"pe_samples_w_selection.h5\", \"w\") as file:    \n",
    "    file.create_dataset('ms_det', data=ms_det)\n",
    "    file.create_dataset('zs_det', data=zs_det)\n",
    "file.close()"
   ]
  },
  {
   "cell_type": "code",
   "execution_count": 19,
   "id": "ca55678b-8393-4493-9800-5e5ebc14274f",
   "metadata": {},
   "outputs": [
    {
     "data": {
      "text/plain": [
       "(62.1088976154426, 22.919643349590647)"
      ]
     },
     "execution_count": 19,
     "metadata": {},
     "output_type": "execute_result"
    }
   ],
   "source": [
    "ms_det.max(), ms_det.min()"
   ]
  },
  {
   "cell_type": "code",
   "execution_count": 20,
   "id": "47994684-b41a-45e3-8e8f-08e24a80b077",
   "metadata": {},
   "outputs": [
    {
     "data": {
      "text/plain": [
       "(1.9772116310228744, 0.003912732753646519)"
      ]
     },
     "execution_count": 20,
     "metadata": {},
     "output_type": "execute_result"
    }
   ],
   "source": [
    "zs_det.max(), zs_det.min()"
   ]
  },
  {
   "cell_type": "code",
   "execution_count": null,
   "id": "5d299b0d-006c-431a-84b4-645b03e1c751",
   "metadata": {},
   "outputs": [],
   "source": []
  }
 ],
 "metadata": {
  "kernelspec": {
   "display_name": "popcosmo",
   "language": "python",
   "name": "popcosmo"
  },
  "language_info": {
   "codemirror_mode": {
    "name": "ipython",
    "version": 3
   },
   "file_extension": ".py",
   "mimetype": "text/x-python",
   "name": "python",
   "nbconvert_exporter": "python",
   "pygments_lexer": "ipython3",
   "version": "3.11.7"
  }
 },
 "nbformat": 4,
 "nbformat_minor": 5
}
